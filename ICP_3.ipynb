{
  "nbformat": 4,
  "nbformat_minor": 0,
  "metadata": {
    "colab": {
      "provenance": [],
      "authorship_tag": "ABX9TyMoxSTKq2Pn30rBXW2lIKMu",
      "include_colab_link": true
    },
    "kernelspec": {
      "name": "python3",
      "display_name": "Python 3"
    },
    "language_info": {
      "name": "python"
    }
  },
  "cells": [
    {
      "cell_type": "markdown",
      "metadata": {
        "id": "view-in-github",
        "colab_type": "text"
      },
      "source": [
        "<a href=\"https://colab.research.google.com/github/SaiVarun1125/Big-Data-Analytics/blob/main/ICP_3.ipynb\" target=\"_parent\"><img src=\"https://colab.research.google.com/assets/colab-badge.svg\" alt=\"Open In Colab\"/></a>"
      ]
    },
    {
      "cell_type": "code",
      "execution_count": 1,
      "metadata": {
        "colab": {
          "base_uri": "https://localhost:8080/"
        },
        "id": "B1f_uH4oIP26",
        "outputId": "43c02344-f846-4484-dd49-22dd17dbd3cf"
      },
      "outputs": [
        {
          "output_type": "stream",
          "name": "stdout",
          "text": [
            "Requirement already satisfied: numpy in /usr/local/lib/python3.10/dist-packages (1.23.5)\n"
          ]
        }
      ],
      "source": [
        "#Installing numpy\n",
        "pip install numpy\n"
      ]
    },
    {
      "cell_type": "code",
      "source": [
        "#Importing numpy library as np\n",
        "import numpy as np"
      ],
      "metadata": {
        "id": "FuIabac_IX1c"
      },
      "execution_count": 2,
      "outputs": []
    },
    {
      "cell_type": "code",
      "source": [
        "#Using random to get the random integers in the range of 1 to 20 of size 15.\n",
        "a= np.random.randint(1,20,size=15)\n",
        "print(a)\n"
      ],
      "metadata": {
        "colab": {
          "base_uri": "https://localhost:8080/"
        },
        "id": "oiUBZFRoIeAR",
        "outputId": "6835f545-794e-428e-bef1-c7b863ecdf44"
      },
      "execution_count": 24,
      "outputs": [
        {
          "output_type": "stream",
          "name": "stdout",
          "text": [
            "[18  8 17 17 12 11 12 17 12 19 15  4  6  1 17]\n"
          ]
        }
      ]
    },
    {
      "cell_type": "code",
      "source": [
        "#Reshaping the above list into a 3 X 5 Matrix\n",
        "b=a.reshape(3,5)\n",
        "print(b)"
      ],
      "metadata": {
        "colab": {
          "base_uri": "https://localhost:8080/"
        },
        "id": "Pr7eqLLsJc4f",
        "outputId": "d1520420-d563-4079-bd0a-876fcf5c4e02"
      },
      "execution_count": 25,
      "outputs": [
        {
          "output_type": "stream",
          "name": "stdout",
          "text": [
            "[[18  8 17 17 12]\n",
            " [11 12 17 12 19]\n",
            " [15  4  6  1 17]]\n"
          ]
        }
      ]
    },
    {
      "cell_type": "code",
      "source": [
        "#Printing out the shape of the array\n",
        "c=b.shape\n",
        "print(c)"
      ],
      "metadata": {
        "colab": {
          "base_uri": "https://localhost:8080/"
        },
        "id": "7U9KIhPfJ_cp",
        "outputId": "91810e9c-6f70-44a9-f1d8-792cc30596a0"
      },
      "execution_count": 26,
      "outputs": [
        {
          "output_type": "stream",
          "name": "stdout",
          "text": [
            "(3, 5)\n"
          ]
        }
      ]
    },
    {
      "cell_type": "code",
      "source": [
        "#Finding out the maximum value in the rows\n",
        "maxval=b.max(axis=1)\n",
        "#Marking true for the max value in row.\n",
        "mask = (b == maxval[:, np.newaxis])\n",
        "#Assigning 0 to the max value positon.\n",
        "b[mask] = 0\n",
        "#Printing the output.\n",
        "print(b)"
      ],
      "metadata": {
        "colab": {
          "base_uri": "https://localhost:8080/"
        },
        "id": "ooV3vHB1KUep",
        "outputId": "f30b566c-deda-4d53-dca3-eb5d26f105d0"
      },
      "execution_count": 27,
      "outputs": [
        {
          "output_type": "stream",
          "name": "stdout",
          "text": [
            "[[ 0  8 17 17 12]\n",
            " [11 12 17 12  0]\n",
            " [15  4  6  1  0]]\n"
          ]
        }
      ]
    },
    {
      "cell_type": "markdown",
      "source": [
        "Question 2"
      ],
      "metadata": {
        "id": "GzPiJq0HLuSj"
      }
    },
    {
      "cell_type": "code",
      "source": [
        "#Creating a list named x\n",
        "x=[[1,2,3],[4,5,6],[7,8,9],[10,11,12]]\n",
        "#Converting the list into a array and assigning it to y\n",
        "y=np.array(x)\n",
        "print(y)"
      ],
      "metadata": {
        "colab": {
          "base_uri": "https://localhost:8080/"
        },
        "id": "4MLKcQZaLwWi",
        "outputId": "552aabc0-568a-4532-b964-1d704e830e51"
      },
      "execution_count": 29,
      "outputs": [
        {
          "output_type": "stream",
          "name": "stdout",
          "text": [
            "[[ 1  2  3]\n",
            " [ 4  5  6]\n",
            " [ 7  8  9]\n",
            " [10 11 12]]\n"
          ]
        }
      ]
    },
    {
      "cell_type": "code",
      "source": [
        "#Printing the shape of Y\n",
        "print(y.shape)"
      ],
      "metadata": {
        "colab": {
          "base_uri": "https://localhost:8080/"
        },
        "id": "cSgG165oMEBH",
        "outputId": "dff11661-c04c-40da-a22f-559f42f4f571"
      },
      "execution_count": 30,
      "outputs": [
        {
          "output_type": "stream",
          "name": "stdout",
          "text": [
            "(4, 3)\n"
          ]
        }
      ]
    },
    {
      "cell_type": "code",
      "source": [
        "#Printing the data type of Y\n",
        "print(y.dtype)"
      ],
      "metadata": {
        "colab": {
          "base_uri": "https://localhost:8080/"
        },
        "id": "DEYUJ4lhMbZR",
        "outputId": "f7b879d9-4ba9-4100-cb3b-7255f3cee541"
      },
      "execution_count": 32,
      "outputs": [
        {
          "output_type": "stream",
          "name": "stdout",
          "text": [
            "int64\n"
          ]
        }
      ]
    },
    {
      "cell_type": "code",
      "source": [
        "#Printing the type of Y\n",
        "print(type(y))"
      ],
      "metadata": {
        "colab": {
          "base_uri": "https://localhost:8080/"
        },
        "id": "cYORDGKkMfST",
        "outputId": "b77bb575-0f95-434c-8e26-cd58346e31e5"
      },
      "execution_count": 34,
      "outputs": [
        {
          "output_type": "stream",
          "name": "stdout",
          "text": [
            "<class 'numpy.ndarray'>\n"
          ]
        }
      ]
    },
    {
      "cell_type": "markdown",
      "source": [
        "Question 3"
      ],
      "metadata": {
        "id": "VFzULwjUMtlg"
      }
    },
    {
      "cell_type": "code",
      "source": [
        "#Creating a list ar\n",
        "ar=[[0,1,2],[3,4,5]]\n",
        "#Converting the list into array\n",
        "new_ar=np.array(ar)\n",
        "#Printing the new array\n",
        "print(new_ar)"
      ],
      "metadata": {
        "colab": {
          "base_uri": "https://localhost:8080/"
        },
        "id": "XnwdSz9GMwAZ",
        "outputId": "2c751314-cb3d-4e45-b81a-4f5462310c78"
      },
      "execution_count": 35,
      "outputs": [
        {
          "output_type": "stream",
          "name": "stdout",
          "text": [
            "[[0 1 2]\n",
            " [3 4 5]]\n"
          ]
        }
      ]
    },
    {
      "cell_type": "code",
      "source": [
        "z=np.trace(new_ar)\n",
        "#Using trace() to get the sum of diagonal elements.\n",
        "print(z)"
      ],
      "metadata": {
        "colab": {
          "base_uri": "https://localhost:8080/"
        },
        "id": "J8CNRHH5M7vr",
        "outputId": "8afe617a-d0ca-43d6-8c2a-b77cd3b5fd0f"
      },
      "execution_count": 51,
      "outputs": [
        {
          "output_type": "stream",
          "name": "stdout",
          "text": [
            "4\n"
          ]
        }
      ]
    },
    {
      "cell_type": "markdown",
      "source": [
        "Question 4\n"
      ],
      "metadata": {
        "id": "cNz2X56TPAUB"
      }
    },
    {
      "cell_type": "code",
      "source": [
        "#Generating odd values in the range of 10 to 70.\n",
        "odd=np.arange(10,70,3)\n",
        "#Priting out the values generated.\n",
        "print(odd)\n",
        "#Resizing the above output to fit into a 3 X 3 matrix.\n",
        "up_odd=np.resize(odd,(3,3))\n",
        "#Printing the required output\n",
        "print(up_odd)"
      ],
      "metadata": {
        "colab": {
          "base_uri": "https://localhost:8080/"
        },
        "id": "7FzlG1ycPDMo",
        "outputId": "4cf78f4e-3336-4508-e626-4b6264da07d3"
      },
      "execution_count": 56,
      "outputs": [
        {
          "output_type": "stream",
          "name": "stdout",
          "text": [
            "[10 13 16 19 22 25 28 31 34 37 40 43 46 49 52 55 58 61 64 67]\n",
            "[[10 13 16]\n",
            " [19 22 25]\n",
            " [28 31 34]]\n"
          ]
        }
      ]
    },
    {
      "cell_type": "code",
      "source": [
        "#Generating even values in the range of 10 to 70.\n",
        "even=np.arange(10,70,2)\n",
        "#Priting out the generated values.\n",
        "print(even)\n",
        "#Resizing the above output to fit into a 3 X 3 matrix.\n",
        "up_even=np.resize(even,(3,3))\n",
        "#Printing the required output\n",
        "print(up_even)"
      ],
      "metadata": {
        "colab": {
          "base_uri": "https://localhost:8080/"
        },
        "id": "1f8Sc8J2PWqG",
        "outputId": "a066f8c3-22c8-46bc-e768-aa4760fa7be3"
      },
      "execution_count": 57,
      "outputs": [
        {
          "output_type": "stream",
          "name": "stdout",
          "text": [
            "[10 12 14 16 18 20 22 24 26 28 30 32 34 36 38 40 42 44 46 48 50 52 54 56\n",
            " 58 60 62 64 66 68]\n",
            "[[10 12 14]\n",
            " [16 18 20]\n",
            " [22 24 26]]\n"
          ]
        }
      ]
    },
    {
      "cell_type": "code",
      "source": [
        "#Performing the addition operation on both even, odd matrices and assiging the output to add variable.\n",
        "add=up_odd+up_even\n",
        "#Priting the output.\n",
        "print(add)"
      ],
      "metadata": {
        "colab": {
          "base_uri": "https://localhost:8080/"
        },
        "id": "FnvAlIIQPyOD",
        "outputId": "9d8fb88a-c1bb-4577-e061-d82f14cffca2"
      },
      "execution_count": 58,
      "outputs": [
        {
          "output_type": "stream",
          "name": "stdout",
          "text": [
            "[[20 25 30]\n",
            " [35 40 45]\n",
            " [50 55 60]]\n"
          ]
        }
      ]
    },
    {
      "cell_type": "code",
      "source": [
        "#Performing the subtraction operation on both even, odd matrices and assiging the output to sub variable.\n",
        "sub=up_odd-up_even\n",
        "#Priting the output.\n",
        "print(sub)"
      ],
      "metadata": {
        "colab": {
          "base_uri": "https://localhost:8080/"
        },
        "id": "_BdlYVXZQLYt",
        "outputId": "19cac07b-b1d5-4d58-d9cf-db91a95c90aa"
      },
      "execution_count": 60,
      "outputs": [
        {
          "output_type": "stream",
          "name": "stdout",
          "text": [
            "[[0 1 2]\n",
            " [3 4 5]\n",
            " [6 7 8]]\n"
          ]
        }
      ]
    },
    {
      "cell_type": "code",
      "source": [
        "#Performing the multiplication operation operation on both even, odd matrices and assigning the output to mul variable.\n",
        "mul=up_odd*up_even\n",
        "#Priting output.\n",
        "print(mul)"
      ],
      "metadata": {
        "colab": {
          "base_uri": "https://localhost:8080/"
        },
        "id": "TYvSELUpQRa5",
        "outputId": "2f0daba8-41de-4c79-95c9-dd32353e4846"
      },
      "execution_count": 61,
      "outputs": [
        {
          "output_type": "stream",
          "name": "stdout",
          "text": [
            "[[100 156 224]\n",
            " [304 396 500]\n",
            " [616 744 884]]\n"
          ]
        }
      ]
    },
    {
      "cell_type": "code",
      "source": [
        "#Assiging values to newar\n",
        "newar= [[5.54, 3.38, 7.99],\n",
        " [3.54, 4.38, 6.99],\n",
        " [1.54, 2.39, 9.29]]\n"
      ],
      "metadata": {
        "id": "bKubBdl4QeQ6"
      },
      "execution_count": 64,
      "outputs": []
    },
    {
      "cell_type": "code",
      "source": [
        "#Converting newar to array and assiging it to neww.\n",
        "neww=np.array(newar)"
      ],
      "metadata": {
        "id": "_4ZMYFfMQlAJ"
      },
      "execution_count": 65,
      "outputs": []
    },
    {
      "cell_type": "code",
      "source": [
        "#Sorting Columns.\n",
        "np.sort(neww,axis=0)"
      ],
      "metadata": {
        "colab": {
          "base_uri": "https://localhost:8080/"
        },
        "id": "2xxxba7sQpU9",
        "outputId": "5d555f4a-1653-4c9e-8dd8-635d5a139b52"
      },
      "execution_count": 70,
      "outputs": [
        {
          "output_type": "execute_result",
          "data": {
            "text/plain": [
              "array([[1.54, 2.39, 6.99],\n",
              "       [3.54, 3.38, 7.99],\n",
              "       [5.54, 4.38, 9.29]])"
            ]
          },
          "metadata": {},
          "execution_count": 70
        }
      ]
    },
    {
      "cell_type": "code",
      "source": [
        "#Sorting Rows.\n",
        "np.sort(neww,axis=1)"
      ],
      "metadata": {
        "colab": {
          "base_uri": "https://localhost:8080/"
        },
        "id": "6qo6ejWUQr4S",
        "outputId": "2175a877-6ee2-402c-f933-173868ecd064"
      },
      "execution_count": 71,
      "outputs": [
        {
          "output_type": "execute_result",
          "data": {
            "text/plain": [
              "array([[3.38, 5.54, 7.99],\n",
              "       [3.54, 4.38, 6.99],\n",
              "       [1.54, 2.39, 9.29]])"
            ]
          },
          "metadata": {},
          "execution_count": 71
        }
      ]
    },
    {
      "cell_type": "markdown",
      "source": [
        "Question 5"
      ],
      "metadata": {
        "id": "zC1MqBAbRIjp"
      }
    },
    {
      "cell_type": "code",
      "source": [
        "#Assigning values to variable last.\n",
        "last= np.array([[ 4, 2, np.nan, 1],\n",
        "[11 ,12 ,14 ,9],\n",
        " [5, np.nan, 1, np.nan]])\n",
        "#Finding out the values nan in last marking them as False and integers as True by using ~isnan().\n",
        "bol = ~np.isnan(last)\n",
        "#Priting output.\n",
        "print(bol)"
      ],
      "metadata": {
        "colab": {
          "base_uri": "https://localhost:8080/"
        },
        "id": "3kmRg6xQRKd4",
        "outputId": "0f397e98-94f5-4e1d-a984-1e56933f5de2"
      },
      "execution_count": 84,
      "outputs": [
        {
          "output_type": "stream",
          "name": "stdout",
          "text": [
            "[[ True  True False  True]\n",
            " [ True  True  True  True]\n",
            " [ True False  True False]]\n"
          ]
        }
      ]
    }
  ]
}