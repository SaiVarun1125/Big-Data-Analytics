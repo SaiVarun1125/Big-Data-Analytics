{
  "nbformat": 4,
  "nbformat_minor": 0,
  "metadata": {
    "colab": {
      "provenance": [],
      "authorship_tag": "ABX9TyNJ6Nzl1Bf1UuLEtvKqi5lM",
      "include_colab_link": true
    },
    "kernelspec": {
      "name": "python3",
      "display_name": "Python 3"
    },
    "language_info": {
      "name": "python"
    }
  },
  "cells": [
    {
      "cell_type": "markdown",
      "metadata": {
        "id": "view-in-github",
        "colab_type": "text"
      },
      "source": [
        "<a href=\"https://colab.research.google.com/github/SaiVarun1125/Big-Data-Analytics/blob/main/ICP2.ipynb\" target=\"_parent\"><img src=\"https://colab.research.google.com/assets/colab-badge.svg\" alt=\"Open In Colab\"/></a>"
      ]
    },
    {
      "cell_type": "code",
      "execution_count": null,
      "metadata": {
        "id": "Usv-B6vqFGIN"
      },
      "outputs": [],
      "source": []
    },
    {
      "cell_type": "markdown",
      "source": [
        "#Question 1"
      ],
      "metadata": {
        "id": "YR0O0k_uFo8H"
      }
    },
    {
      "cell_type": "code",
      "source": [
        "ages=[19,22,19,24,20,25,26,24,25,24]"
      ],
      "metadata": {
        "id": "VdD5GefxFr1_"
      },
      "execution_count": 1,
      "outputs": []
    },
    {
      "cell_type": "code",
      "source": [
        "#importing statistics module to work with mathemetical functions.\n",
        "from statistics import *\n",
        "#finding median\n",
        "median(ages)"
      ],
      "metadata": {
        "colab": {
          "base_uri": "https://localhost:8080/"
        },
        "id": "I8S2QhJDF24E",
        "outputId": "45c2191a-104d-4e87-957d-f1a5c3d2fefd"
      },
      "execution_count": 3,
      "outputs": [
        {
          "output_type": "execute_result",
          "data": {
            "text/plain": [
              "24.0"
            ]
          },
          "metadata": {},
          "execution_count": 3
        }
      ]
    },
    {
      "cell_type": "code",
      "source": [
        "#finding minimum value in ages\n",
        "min(ages)"
      ],
      "metadata": {
        "colab": {
          "base_uri": "https://localhost:8080/"
        },
        "id": "kP2-Cw0RF-_S",
        "outputId": "e1816359-a9e5-4bf9-e780-ffaf7e9c8dc9"
      },
      "execution_count": 7,
      "outputs": [
        {
          "output_type": "execute_result",
          "data": {
            "text/plain": [
              "19"
            ]
          },
          "metadata": {},
          "execution_count": 7
        }
      ]
    },
    {
      "cell_type": "code",
      "source": [
        "#finding the maximum value in ages\n",
        "max(ages)"
      ],
      "metadata": {
        "colab": {
          "base_uri": "https://localhost:8080/"
        },
        "id": "tMaQ_1SxGAuQ",
        "outputId": "8681621a-d9e9-494b-b84e-6fc8c0e077c0"
      },
      "execution_count": 8,
      "outputs": [
        {
          "output_type": "execute_result",
          "data": {
            "text/plain": [
              "26"
            ]
          },
          "metadata": {},
          "execution_count": 8
        }
      ]
    },
    {
      "cell_type": "code",
      "source": [
        "len(ages)"
      ],
      "metadata": {
        "colab": {
          "base_uri": "https://localhost:8080/"
        },
        "id": "BDwVZSYUGIq-",
        "outputId": "a9617271-4639-4082-d199-00a1e5b425a1"
      },
      "execution_count": 10,
      "outputs": [
        {
          "output_type": "execute_result",
          "data": {
            "text/plain": [
              "10"
            ]
          },
          "metadata": {},
          "execution_count": 10
        }
      ]
    },
    {
      "cell_type": "code",
      "source": [
        "#finding average of ages\n",
        "n=len(ages)\n",
        "a=0\n",
        "#using for loop to find the sum of all values.\n",
        "for i in ages:\n",
        "  a=a+i\n",
        "#diving the sum of values with the number of values.\n",
        "b=a/n\n",
        "b"
      ],
      "metadata": {
        "colab": {
          "base_uri": "https://localhost:8080/"
        },
        "id": "jT1B7VpzGRlO",
        "outputId": "24208564-1988-4a81-cd3a-4c176ff15f5f"
      },
      "execution_count": 13,
      "outputs": [
        {
          "output_type": "execute_result",
          "data": {
            "text/plain": [
              "22.8"
            ]
          },
          "metadata": {},
          "execution_count": 13
        }
      ]
    },
    {
      "cell_type": "code",
      "source": [
        "#finding the range\n",
        "range=max(ages) - min(ages)\n",
        "range"
      ],
      "metadata": {
        "colab": {
          "base_uri": "https://localhost:8080/"
        },
        "id": "sP2OxlftGe7b",
        "outputId": "b27c09b9-7006-42bd-cd9a-d6b5c7410a5c"
      },
      "execution_count": 15,
      "outputs": [
        {
          "output_type": "execute_result",
          "data": {
            "text/plain": [
              "7"
            ]
          },
          "metadata": {},
          "execution_count": 15
        }
      ]
    },
    {
      "cell_type": "code",
      "source": [
        "ages"
      ],
      "metadata": {
        "colab": {
          "base_uri": "https://localhost:8080/"
        },
        "id": "kWR3wR_oGr83",
        "outputId": "84975707-e0df-4224-e3fb-c1097014113f"
      },
      "execution_count": 20,
      "outputs": [
        {
          "output_type": "execute_result",
          "data": {
            "text/plain": [
              "[19, 22, 19, 24, 20, 25, 26, 24, 25, 24, 19, 26, 19, 26]"
            ]
          },
          "metadata": {},
          "execution_count": 20
        }
      ]
    },
    {
      "cell_type": "code",
      "source": [
        "#appending the minimun and maximum values from ages to end of the list.\n",
        "x=min(ages)\n",
        "y=max(ages)\n",
        "ages.append(x)\n",
        "ages.append(y)\n",
        "ages"
      ],
      "metadata": {
        "colab": {
          "base_uri": "https://localhost:8080/"
        },
        "id": "o03kczJCGv9B",
        "outputId": "eec9080e-b3e1-491f-baa9-b4cc453d128b"
      },
      "execution_count": 21,
      "outputs": [
        {
          "output_type": "execute_result",
          "data": {
            "text/plain": [
              "[19, 22, 19, 24, 20, 25, 26, 24, 25, 24, 19, 26, 19, 26, 19, 26]"
            ]
          },
          "metadata": {},
          "execution_count": 21
        }
      ]
    },
    {
      "cell_type": "code",
      "source": [],
      "metadata": {
        "id": "zVWYW4w3G2yU"
      },
      "execution_count": null,
      "outputs": []
    },
    {
      "cell_type": "markdown",
      "source": [
        "Question 2\n"
      ],
      "metadata": {
        "id": "Pfit4i2wHDGV"
      }
    },
    {
      "cell_type": "code",
      "source": [
        "#declaring a distionary called dog and initializing its values.\n",
        "dog={\"name\":\"Scooby\",\n",
        "     \"color\":\"Brown\",\n",
        "     \"breed\":\"Husky\",\n",
        "     \"legs\":4,\n",
        "     \"age\":8\n",
        "     }\n",
        "dog\n"
      ],
      "metadata": {
        "colab": {
          "base_uri": "https://localhost:8080/"
        },
        "id": "MnDOMw4JHFU-",
        "outputId": "8af325ae-fe0c-4b14-c481-922424f52584"
      },
      "execution_count": 22,
      "outputs": [
        {
          "output_type": "execute_result",
          "data": {
            "text/plain": [
              "{'name': 'Scooby', 'color': 'Brown', 'breed': 'Husky', 'legs': 4, 'age': 8}"
            ]
          },
          "metadata": {},
          "execution_count": 22
        }
      ]
    },
    {
      "cell_type": "code",
      "source": [
        "#declaring a distionary called student and initializing its values.\n",
        "student={\n",
        "    \"first_name\":\"Venkata\",\n",
        "    \"last_name\":\"Mooraboina\",\n",
        "    \"gender\":\"Male\",\n",
        "    \"age\":21,\n",
        "    \"marital_status\":\"Single\",\n",
        "    \"skills\":[\"Pragrammer', 'Cricketer\",\"software engineer\"],\n",
        "    \"country\":\"India\",\n",
        "    \"city\":\"Hyderabad\",\n",
        "    \"address\":\"Vanasthalipuram\"\n",
        "}\n",
        "print(student)"
      ],
      "metadata": {
        "colab": {
          "base_uri": "https://localhost:8080/"
        },
        "id": "6GjxoM-dHfOa",
        "outputId": "46d11c1f-ddc7-4fac-df71-0317bf771013"
      },
      "execution_count": 37,
      "outputs": [
        {
          "output_type": "stream",
          "name": "stdout",
          "text": [
            "{'first_name': 'Venkata', 'last_name': 'Mooraboina', 'gender': 'Male', 'age': 21, 'marital_status': 'Single', 'skills': [\"Pragrammer', 'Cricketer\", 'software engineer'], 'country': 'India', 'city': 'Hyderabad', 'address': 'Vanasthalipuram'}\n"
          ]
        }
      ]
    },
    {
      "cell_type": "code",
      "source": [
        "#printing number of key value pairs in student.\n",
        "len(student)"
      ],
      "metadata": {
        "colab": {
          "base_uri": "https://localhost:8080/"
        },
        "id": "kY-qnJgKIldd",
        "outputId": "8c81d946-0b3a-4938-9b97-c4bf1db94d54"
      },
      "execution_count": 38,
      "outputs": [
        {
          "output_type": "execute_result",
          "data": {
            "text/plain": [
              "9"
            ]
          },
          "metadata": {},
          "execution_count": 38
        }
      ]
    },
    {
      "cell_type": "code",
      "source": [
        "#printing skills and the datatype of skills.\n",
        "out=student['skills']\n",
        "print(out)\n",
        "type(out)"
      ],
      "metadata": {
        "colab": {
          "base_uri": "https://localhost:8080/"
        },
        "id": "mQR7P363ItSs",
        "outputId": "a97374dd-824d-4308-fc82-4d59e8940a05"
      },
      "execution_count": 39,
      "outputs": [
        {
          "output_type": "stream",
          "name": "stdout",
          "text": [
            "[\"Pragrammer', 'Cricketer\", 'software engineer']\n"
          ]
        },
        {
          "output_type": "execute_result",
          "data": {
            "text/plain": [
              "list"
            ]
          },
          "metadata": {},
          "execution_count": 39
        }
      ]
    },
    {
      "cell_type": "code",
      "source": [
        "#adding a new skill to the existing skills list.\n",
        "student['skills'].append('trader')\n",
        "student['skills']"
      ],
      "metadata": {
        "colab": {
          "base_uri": "https://localhost:8080/"
        },
        "id": "Sr2-a8dMI8_L",
        "outputId": "5ce3b8b8-6e8f-46b4-ecfd-1ea9c2788276"
      },
      "execution_count": 40,
      "outputs": [
        {
          "output_type": "execute_result",
          "data": {
            "text/plain": [
              "[\"Pragrammer', 'Cricketer\", 'software engineer', 'trader']"
            ]
          },
          "metadata": {},
          "execution_count": 40
        }
      ]
    },
    {
      "cell_type": "code",
      "source": [
        "#printing all the student keys.\n",
        "student.keys()"
      ],
      "metadata": {
        "colab": {
          "base_uri": "https://localhost:8080/"
        },
        "id": "RCDXAXowJhLQ",
        "outputId": "b4288983-80e6-4177-f3e1-6cce68d2b0a1"
      },
      "execution_count": 43,
      "outputs": [
        {
          "output_type": "execute_result",
          "data": {
            "text/plain": [
              "dict_keys(['first_name', 'last_name', 'gender', 'age', 'marital_status', 'skills', 'country', 'city', 'address'])"
            ]
          },
          "metadata": {},
          "execution_count": 43
        }
      ]
    },
    {
      "cell_type": "code",
      "source": [
        "#Printing all student values.\n",
        "student.values()"
      ],
      "metadata": {
        "colab": {
          "base_uri": "https://localhost:8080/"
        },
        "id": "Yiuhea3yJnGC",
        "outputId": "211119eb-431c-4721-8042-6c0c532db632"
      },
      "execution_count": 44,
      "outputs": [
        {
          "output_type": "execute_result",
          "data": {
            "text/plain": [
              "dict_values(['Venkata', 'Mooraboina', 'Male', 21, 'Single', [\"Pragrammer', 'Cricketer\", 'software engineer', 'trader'], 'India', 'Hyderabad', 'Vanasthalipuram'])"
            ]
          },
          "metadata": {},
          "execution_count": 44
        }
      ]
    },
    {
      "cell_type": "code",
      "source": [],
      "metadata": {
        "id": "idFe62B3JyTd"
      },
      "execution_count": null,
      "outputs": []
    },
    {
      "cell_type": "markdown",
      "source": [
        "Question 3"
      ],
      "metadata": {
        "id": "iI0AXzDnJ1ct"
      }
    },
    {
      "cell_type": "code",
      "source": [
        "#initializing variables.\n",
        "it_companies = {'Facebook', 'Google', 'Microsoft', 'Apple', 'IBM', 'Oracle', 'Amazon'}\n",
        "A = {19, 22, 24, 20, 25, 26}\n",
        "B = {19, 22, 20, 25, 26, 24, 28, 27}\n",
        "age = [22, 19, 24, 25, 26, 24, 25, 24]"
      ],
      "metadata": {
        "id": "l9eU7NT_J2rX"
      },
      "execution_count": 73,
      "outputs": []
    },
    {
      "cell_type": "code",
      "source": [
        "#printing number of elelments in it_companies.\n",
        "len(it_companies)"
      ],
      "metadata": {
        "colab": {
          "base_uri": "https://localhost:8080/"
        },
        "id": "D_O_o6GUJ6kt",
        "outputId": "7b999528-fae6-4507-a9e4-9956114190e8"
      },
      "execution_count": 74,
      "outputs": [
        {
          "output_type": "execute_result",
          "data": {
            "text/plain": [
              "7"
            ]
          },
          "metadata": {},
          "execution_count": 74
        }
      ]
    },
    {
      "cell_type": "code",
      "source": [
        "#Removing Facebook from it_companies.\n",
        "it_companies.remove(\"Facebook\")\n",
        "it_companies"
      ],
      "metadata": {
        "colab": {
          "base_uri": "https://localhost:8080/"
        },
        "id": "okrNzN3aKpd7",
        "outputId": "6d349f90-4e0a-4a45-a56f-2dba3176b311"
      },
      "execution_count": 75,
      "outputs": [
        {
          "output_type": "execute_result",
          "data": {
            "text/plain": [
              "{'Amazon', 'Apple', 'Google', 'IBM', 'Microsoft', 'Oracle'}"
            ]
          },
          "metadata": {},
          "execution_count": 75
        }
      ]
    },
    {
      "cell_type": "code",
      "source": [
        "#adding Twitter to it_comapnies.\n",
        "it_companies.add(\"Twitter\")\n",
        "it_companies"
      ],
      "metadata": {
        "colab": {
          "base_uri": "https://localhost:8080/"
        },
        "id": "zozjndnTJ8nb",
        "outputId": "47abe5af-8942-4ed4-9152-f53edffdaee7"
      },
      "execution_count": 76,
      "outputs": [
        {
          "output_type": "execute_result",
          "data": {
            "text/plain": [
              "{'Amazon', 'Apple', 'Google', 'IBM', 'Microsoft', 'Oracle', 'Twitter'}"
            ]
          },
          "metadata": {},
          "execution_count": 76
        }
      ]
    },
    {
      "cell_type": "code",
      "source": [
        "#Adding multiple companies from more_companies to it_companies\n",
        "more_companies={\"Flipkart\",\"Phonepe\",\"SunNetworks\"}\n",
        "it_companies.update(more_companies)\n",
        "it_companies"
      ],
      "metadata": {
        "colab": {
          "base_uri": "https://localhost:8080/"
        },
        "id": "ORi0_Y-XKA3r",
        "outputId": "4f728d27-7f2f-4b86-af01-97e09cbf56b2"
      },
      "execution_count": 77,
      "outputs": [
        {
          "output_type": "execute_result",
          "data": {
            "text/plain": [
              "{'Amazon',\n",
              " 'Apple',\n",
              " 'Flipkart',\n",
              " 'Google',\n",
              " 'IBM',\n",
              " 'Microsoft',\n",
              " 'Oracle',\n",
              " 'Phonepe',\n",
              " 'SunNetworks',\n",
              " 'Twitter'}"
            ]
          },
          "metadata": {},
          "execution_count": 77
        }
      ]
    },
    {
      "cell_type": "code",
      "source": [
        "import collections"
      ],
      "metadata": {
        "id": "OrBW5coZKgfb"
      },
      "execution_count": 83,
      "outputs": []
    },
    {
      "cell_type": "markdown",
      "source": [
        "What is the difference between remove and discard?\n",
        "\n",
        "remove method is used to remove a specified element form a set, and raise errors if the element not found \"KEY ERROR\". discard method is same as remove but this won't raise any errors."
      ],
      "metadata": {
        "id": "NYw6pAMzLu38"
      }
    },
    {
      "cell_type": "code",
      "source": [
        "#Joining A and B\n",
        "C=A|B\n",
        "C"
      ],
      "metadata": {
        "colab": {
          "base_uri": "https://localhost:8080/"
        },
        "id": "Y2tYTQxvLw8p",
        "outputId": "93bafdb8-3404-4282-8773-a5e71ef28b0d"
      },
      "execution_count": 88,
      "outputs": [
        {
          "output_type": "execute_result",
          "data": {
            "text/plain": [
              "{19, 20, 22, 24, 25, 26, 27, 28}"
            ]
          },
          "metadata": {},
          "execution_count": 88
        }
      ]
    },
    {
      "cell_type": "markdown",
      "source": [],
      "metadata": {
        "id": "pDwyeHPmLxbz"
      }
    },
    {
      "cell_type": "code",
      "source": [
        "#A intersection B\n",
        "D=A.intersection(B)\n",
        "D"
      ],
      "metadata": {
        "colab": {
          "base_uri": "https://localhost:8080/"
        },
        "id": "h9CvpkSoNQki",
        "outputId": "8c91b82b-86b6-4ffa-fe54-4166d36f6df8"
      },
      "execution_count": 91,
      "outputs": [
        {
          "output_type": "execute_result",
          "data": {
            "text/plain": [
              "{19, 20, 22, 24, 25, 26}"
            ]
          },
          "metadata": {},
          "execution_count": 91
        }
      ]
    },
    {
      "cell_type": "code",
      "source": [
        "#Checking A subset of B\n",
        "E=A.issubset(B)\n",
        "E"
      ],
      "metadata": {
        "colab": {
          "base_uri": "https://localhost:8080/"
        },
        "id": "GlFsm9X3Nujm",
        "outputId": "2caee1ca-3372-4931-f5e3-15fee8540cff"
      },
      "execution_count": 95,
      "outputs": [
        {
          "output_type": "execute_result",
          "data": {
            "text/plain": [
              "True"
            ]
          },
          "metadata": {},
          "execution_count": 95
        }
      ]
    },
    {
      "cell_type": "code",
      "source": [
        "#Checking are A and B disjoint sets\n",
        "F=A.isdisjoint(B)\n",
        "F"
      ],
      "metadata": {
        "colab": {
          "base_uri": "https://localhost:8080/"
        },
        "id": "3aLQA4FQN6aX",
        "outputId": "78a1d58c-1d3c-4638-f594-0eee8f13947b"
      },
      "execution_count": 96,
      "outputs": [
        {
          "output_type": "execute_result",
          "data": {
            "text/plain": [
              "False"
            ]
          },
          "metadata": {},
          "execution_count": 96
        }
      ]
    },
    {
      "cell_type": "code",
      "source": [
        "#Joining A with B\n",
        "A=A|B\n",
        "A"
      ],
      "metadata": {
        "colab": {
          "base_uri": "https://localhost:8080/"
        },
        "id": "AK20ucT3ODQm",
        "outputId": "5f3e1333-2926-4d41-d571-33fcf75ff4a7"
      },
      "execution_count": 99,
      "outputs": [
        {
          "output_type": "execute_result",
          "data": {
            "text/plain": [
              "{19, 20, 22, 24, 25, 26, 27, 28}"
            ]
          },
          "metadata": {},
          "execution_count": 99
        }
      ]
    },
    {
      "cell_type": "code",
      "source": [
        "#Joining B with A\n",
        "B=B|A\n",
        "B"
      ],
      "metadata": {
        "colab": {
          "base_uri": "https://localhost:8080/"
        },
        "id": "mUP-8vvtOIz0",
        "outputId": "1fc56c27-93ec-4ab6-e539-befb0a4b9ca5"
      },
      "execution_count": 100,
      "outputs": [
        {
          "output_type": "execute_result",
          "data": {
            "text/plain": [
              "{19, 20, 22, 24, 25, 26, 27, 28}"
            ]
          },
          "metadata": {},
          "execution_count": 100
        }
      ]
    },
    {
      "cell_type": "code",
      "source": [
        "#Symmetric  difference between A and B\n",
        "A.symmetric_difference(B)"
      ],
      "metadata": {
        "colab": {
          "base_uri": "https://localhost:8080/"
        },
        "id": "h4-MtF2OOgQd",
        "outputId": "2d2a9ddf-38d0-4382-b9ee-e2f771ad8a32"
      },
      "execution_count": 103,
      "outputs": [
        {
          "output_type": "execute_result",
          "data": {
            "text/plain": [
              "set()"
            ]
          },
          "metadata": {},
          "execution_count": 103
        }
      ]
    },
    {
      "cell_type": "code",
      "source": [
        "#Deleting two sets\n",
        "del(A)\n",
        "del(B)"
      ],
      "metadata": {
        "id": "-Um6L7fYO1C5"
      },
      "execution_count": 104,
      "outputs": []
    },
    {
      "cell_type": "code",
      "source": [
        "#Converting the ages to a set and compare the length of the list and the set\n",
        "l=len(age)\n",
        "s=set(age)\n",
        "print(\"lenght:\",len(s))\n",
        "print(l)\n"
      ],
      "metadata": {
        "colab": {
          "base_uri": "https://localhost:8080/"
        },
        "id": "SPnLMvSDO90Q",
        "outputId": "9efd4f14-a1c5-48eb-822b-4d3704ca86df"
      },
      "execution_count": 109,
      "outputs": [
        {
          "output_type": "stream",
          "name": "stdout",
          "text": [
            "lenght: 5\n",
            "8\n"
          ]
        }
      ]
    },
    {
      "cell_type": "code",
      "source": [],
      "metadata": {
        "id": "gYbG9nbVPJI6"
      },
      "execution_count": null,
      "outputs": []
    },
    {
      "cell_type": "code",
      "source": [],
      "metadata": {
        "id": "rDtuM4AtR0PL"
      },
      "execution_count": null,
      "outputs": []
    },
    {
      "cell_type": "markdown",
      "source": [
        "Question 4"
      ],
      "metadata": {
        "id": "yAnUJ8x2QVmN"
      }
    },
    {
      "cell_type": "code",
      "source": [
        "# Define the base class Employee\n",
        "class Employee:\n",
        "  no_of_Emp=0\n",
        "  avg=0\n",
        "  def __init__(self,name,family,salary,department):\n",
        "    self.name=name\n",
        "    self.family=family\n",
        "    self.salary=salary\n",
        "    self.department=department\n",
        "    # Increment employee count when an instance is created\n",
        "\n",
        "    Employee.no_of_Emp += 1\n",
        "    print(name,family,salary,department)\n",
        "\n",
        "  def avg_sal(self,salary):\n",
        "    self.salary=salary\n",
        "    avg=salary/no_of_Emp\n",
        "    print(avg)\n",
        "\n",
        "class Fulltime (Employee):\n",
        "  def __init__(self, name, family, salary, department):\n",
        "    # Call the parent class constructor using super()\n",
        "    super().__init__(name, family, salary, department)\n",
        "\n",
        "  def inheri(self):\n",
        "    self.name\n",
        "    Employee.avgsal(name)\n",
        "\n",
        "# Create instances of Employee and FulltimeEmployee classes\n",
        "emp1=Employee(\"Sai\",\"ram\",40000,\"Front-end\")\n",
        "emp2=Fulltime(\"Venkata\",\"Sai\",80000, \"HR\")\n",
        "\n",
        "\n"
      ],
      "metadata": {
        "colab": {
          "base_uri": "https://localhost:8080/"
        },
        "id": "FJwUU9aeQW67",
        "outputId": "63e0eabb-7300-41c4-c623-89670c95dde5"
      },
      "execution_count": 15,
      "outputs": [
        {
          "output_type": "stream",
          "name": "stdout",
          "text": [
            "Sai ram 40000 Front-end\n",
            "Venkata Sai 80000 HR\n"
          ]
        }
      ]
    },
    {
      "cell_type": "code",
      "source": [],
      "metadata": {
        "id": "AGX8KQ04Qe4I"
      },
      "execution_count": null,
      "outputs": []
    }
  ]
}