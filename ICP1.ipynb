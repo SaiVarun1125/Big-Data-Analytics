{
  "nbformat": 4,
  "nbformat_minor": 0,
  "metadata": {
    "colab": {
      "provenance": [],
      "authorship_tag": "ABX9TyOFZbzUeVwGsg3EUG/jEKPJ",
      "include_colab_link": true
    },
    "kernelspec": {
      "name": "python3",
      "display_name": "Python 3"
    },
    "language_info": {
      "name": "python"
    },
    "accelerator": "TPU"
  },
  "cells": [
    {
      "cell_type": "markdown",
      "metadata": {
        "id": "view-in-github",
        "colab_type": "text"
      },
      "source": [
        "<a href=\"https://colab.research.google.com/github/SaiVarun1125/Big-Data-Analytics/blob/main/ICP1.ipynb\" target=\"_parent\"><img src=\"https://colab.research.google.com/assets/colab-badge.svg\" alt=\"Open In Colab\"/></a>"
      ]
    },
    {
      "cell_type": "code",
      "execution_count": 3,
      "metadata": {
        "id": "r1SQtLJ7Cfc4",
        "colab": {
          "base_uri": "https://localhost:8080/",
          "height": 35
        },
        "outputId": "afc5768a-1e29-4684-8ba3-64e8c4a138f3"
      },
      "outputs": [
        {
          "output_type": "execute_result",
          "data": {
            "text/plain": [
              "'htyP'"
            ],
            "application/vnd.google.colaboratory.intrinsic+json": {
              "type": "string"
            }
          },
          "metadata": {},
          "execution_count": 3
        }
      ],
      "source": [
        "a=\"Python\"\n",
        "out=a[-3::-1]\n",
        "out"
      ]
    },
    {
      "cell_type": "code",
      "source": [
        "from IPython.core.display import b2a_base64\n",
        "a=int(input(\"Enter a interger of your choice:\"))\n",
        "b=int(input(\"Enter another integer of your choice:\"))\n",
        "exp=input(\"Enter + / - / * / % operations to perform on above integers:\")\n",
        "if(exp== '+'):\n",
        "  print(a+b)\n",
        "elif(exp==\"-\"):\n",
        "  print(a-b)\n",
        "elif(exp==\"*\"):\n",
        "  print(a*b)\n",
        "elif(exp==\"%\"):\n",
        "   print(a%b)\n",
        "else:\n",
        "  print(\"Invalid expression!\")"
      ],
      "metadata": {
        "colab": {
          "base_uri": "https://localhost:8080/"
        },
        "id": "p-vdYQFlELfl",
        "outputId": "d87a24d8-4118-436c-c03f-37dce55eca6b"
      },
      "execution_count": 7,
      "outputs": [
        {
          "output_type": "stream",
          "name": "stdout",
          "text": [
            "Enter a interger of your choice:10\n",
            "Enter another integer of your choice:5\n",
            "Enter + / - / * / % operations to perform on above integers:%\n",
            "0\n"
          ]
        }
      ]
    },
    {
      "cell_type": "code",
      "source": [
        "string_1=\"I love playing with python\"\n",
        "string_2=string_1.replace(\"python\",\"pythons\")\n",
        "string_2"
      ],
      "metadata": {
        "colab": {
          "base_uri": "https://localhost:8080/",
          "height": 35
        },
        "id": "lYIQzLAeE-_O",
        "outputId": "c595c9c2-52b2-406f-f068-82d252b084c1"
      },
      "execution_count": 10,
      "outputs": [
        {
          "output_type": "execute_result",
          "data": {
            "text/plain": [
              "'I love playing with pythons'"
            ],
            "application/vnd.google.colaboratory.intrinsic+json": {
              "type": "string"
            }
          },
          "metadata": {},
          "execution_count": 10
        }
      ]
    },
    {
      "cell_type": "code",
      "source": [
        "score=int(input(\"Enter your score:\"))\n",
        "if(score>=90):\n",
        "  print(\"A Grade\")\n",
        "elif(score>=80):\n",
        "  print(\"B Grade\")\n",
        "elif(score>=70):\n",
        "  print(\"C Grade\")\n",
        "elif(score>=60):\n",
        "  print(\"D Grade\")\n",
        "elif(score>=50):\n",
        "  print(\"E Grade\")\n",
        "elif(score<50):\n",
        "  print(\"FAIL\")\n",
        "else:\n",
        "  print(\"INVALID INPUT!!\")"
      ],
      "metadata": {
        "colab": {
          "base_uri": "https://localhost:8080/"
        },
        "id": "oxjqRYmtFwAV",
        "outputId": "c611ba12-8d82-4061-cafa-4a1695a93aa1"
      },
      "execution_count": 14,
      "outputs": [
        {
          "output_type": "stream",
          "name": "stdout",
          "text": [
            "Enter your score:99\n",
            "A Grade\n"
          ]
        }
      ]
    }
  ]
}